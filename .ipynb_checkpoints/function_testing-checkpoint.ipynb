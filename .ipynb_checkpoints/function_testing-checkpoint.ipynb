{
 "cells": [],
 "metadata": {
  "kernelspec": {
   "display_name": "image-nilm-clean",
   "language": "python",
   "name": "python3"
  },
  "language_info": {
   "name": "python",
   "version": "3.8.20"
  }
 },
 "nbformat": 4,
 "nbformat_minor": 5
}
