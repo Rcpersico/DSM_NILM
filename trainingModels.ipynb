{
 "cells": [
  {
   "cell_type": "code",
   "execution_count": 1,
   "id": "ca43a7d3",
   "metadata": {},
   "outputs": [],
   "source": [
    "import h5py\n",
    "import numpy as np\n",
    "from sklearn.metrics import mean_absolute_error\n",
    "import pandas as pd\n",
    "from disaggregate.im2seq_clean import Im2Seq\n",
    "from disaggregate.batchgenerator import BatchGenerator \n",
    "import matplotlib.pyplot as plt"
   ]
  },
  {
   "cell_type": "code",
   "execution_count": 2,
   "id": "c8a654d0",
   "metadata": {},
   "outputs": [],
   "source": [
    "applianceToTrain = \"dishwasher\""
   ]
  },
  {
   "cell_type": "code",
   "execution_count": 3,
   "id": "a810122d",
   "metadata": {},
   "outputs": [],
   "source": [
    "def load_data_for_im2seq(h5_path, appliance, building='building2', max_ratio=0.3):\n",
    "    with h5py.File(h5_path, 'r') as f:\n",
    "        mains = f[f'{building}/mains/power/active'][:]\n",
    "        target = f[f'{building}/{appliance}/power/active'][:]\n",
    "\n",
    "    # Trim to same length\n",
    "    min_len = min(len(mains), len(target))\n",
    "    mains = mains[:min_len]\n",
    "    target = target[:min_len]\n",
    "\n",
    "    # Optionally truncate for quick testing\n",
    "    if max_ratio < 1.0:\n",
    "        trim_len = int(min_len * max_ratio)\n",
    "        mains = mains[:trim_len]\n",
    "        target = target[:trim_len]\n",
    "\n",
    "    # Return as single-column DataFrames (expected by Im2Seq)\n",
    "    return pd.DataFrame(mains, columns=['mains']), pd.DataFrame(target, columns=[appliance])"
   ]
  },
  {
   "cell_type": "code",
   "execution_count": 4,
   "id": "2393a244",
   "metadata": {},
   "outputs": [
    {
     "name": "stdout",
     "output_type": "stream",
     "text": [
      "Train shape: (573352, 1) (573352, 1)\n",
      "Test shape: (143338, 1) (143338, 1)\n"
     ]
    }
   ],
   "source": [
    "# Load raw data\n",
    "mains_df, appliance_df = load_data_for_im2seq('./data/REFIT_House2.h5', appliance=applianceToTrain, max_ratio=0.5)\n",
    "\n",
    "# Downsample for fast training\n",
    "mains_df = mains_df[:int(0.25 * len(mains_df))]\n",
    "appliance_df = appliance_df[:int(0.25 * len(appliance_df))]\n",
    "\n",
    "# Set the fraction for training\n",
    "train_frac = 0.8\n",
    "\n",
    "split_idx = int(len(mains_df) * train_frac)\n",
    "\n",
    "# Time-based split\n",
    "mains_train = mains_df[:split_idx]\n",
    "mains_test  = mains_df[split_idx:]\n",
    "\n",
    "appliance_train = appliance_df[:split_idx]\n",
    "appliance_test  = appliance_df[split_idx:]\n",
    "\n",
    "print(\"Train shape:\", mains_train.shape, appliance_train.shape)\n",
    "print(\"Test shape:\", mains_test.shape, appliance_test.shape)\n"
   ]
  },
  {
   "cell_type": "code",
   "execution_count": null,
   "id": "8cf4dbb4",
   "metadata": {},
   "outputs": [
    {
     "name": "stdout",
     "output_type": "stream",
     "text": [
      "Training Im2Seq model with method: gasf\n",
      "train_main shape: (573353, 200), power shape: (573353, 200)\n",
      "Training dishwasher...\n",
      "Starting model.fit for dishwasher, epochs=10\n",
      "Steps per epoch: 4873\n",
      "Epoch 1/10\n",
      "4873/4873 [==============================] - 1423s 292ms/step - loss: 0.7962 - val_loss: 0.7383\n",
      "Epoch 2/10\n",
      "4873/4873 [==============================] - 1347s 276ms/step - loss: 0.7025 - val_loss: 0.6762\n",
      "Epoch 3/10\n",
      "4873/4873 [==============================] - 1342s 275ms/step - loss: 0.6450 - val_loss: 0.6214\n",
      "Epoch 4/10\n",
      "4873/4873 [==============================] - 1656s 340ms/step - loss: 0.5928 - val_loss: 0.5805\n",
      "Epoch 5/10\n",
      "1894/4873 [==========>...................] - ETA: 26:25 - loss: 0.5594"
     ]
    }
   ],
   "source": [
    "# Create and train model\n",
    "model = Im2Seq({\n",
    "    'sequence_length': 200,\n",
    "    'img_size': 200,\n",
    "    'img_method': 'gasf',         # 'mtf' 'gasf', 'rp'\n",
    "    'n_epochs': 10,\n",
    "    'batch_size': 100,\n",
    "})\n",
    "\n",
    "model.models[applianceToTrain] = model.return_network()\n",
    "model.appliance_params = {\n",
    "    applianceToTrain: {\n",
    "        'mean': appliance_train[applianceToTrain].mean(),\n",
    "        'std': appliance_train[applianceToTrain].std()\n",
    "    }\n",
    "}\n",
    "\n",
    "model.partial_fit(\n",
    "    [mains_train],                          # shape: (N, 1)\n",
    "    [(applianceToTrain, [appliance_train])]         # shape: (N, 1)\n",
    ")"
   ]
  },
  {
   "cell_type": "code",
   "execution_count": null,
   "id": "167147ff",
   "metadata": {},
   "outputs": [
    {
     "name": "stdout",
     "output_type": "stream",
     "text": [
      "Test MAE (dishwasher): 138.131\n"
     ]
    }
   ],
   "source": [
    "appliance = applianceToTrain\n",
    "L = model.sequence_length\n",
    "half = L // 2\n",
    "\n",
    "# 1) Preprocess mains (test mode uses the training mains_mean/std)\n",
    "processed_mains_lst = model.call_preprocessing([mains_test], [], method='test')\n",
    "# single item list\n",
    "X_windows = processed_mains_lst[0].values    # shape: (N, L)\n",
    "\n",
    "# 2) Make image batches with BatchGenerator, but collect X arrays explicitly\n",
    "dummy_y = np.zeros((len(X_windows), L), dtype=np.float32)   # not used\n",
    "bg = BatchGenerator(X_windows, dummy_y, model.batch_size, model.img_method, model.img_size)\n",
    "\n",
    "X_img_batches = []\n",
    "for i in range(len(bg)):\n",
    "    Xb, _ = bg[i]          # ignore y\n",
    "    X_img_batches.append(Xb)\n",
    "\n",
    "X_imgs = np.concatenate(X_img_batches, axis=0)  # shape: (N, img_size, img_size, 1)\n",
    "\n",
    "# 3) Predict window-wise for this appliance\n",
    "net = model.models[appliance]\n",
    "yhat_windows = net.predict(X_imgs, batch_size=model.batch_size, verbose=0)  # (N, L, 1) or (N, L)\n",
    "\n",
    "yhat_windows = yhat_windows.reshape(len(yhat_windows), L)\n",
    "\n",
    "# 4) Overlap-add and average\n",
    "n = len(yhat_windows) + L - 1\n",
    "sum_arr    = np.zeros(n, dtype=np.float32)\n",
    "counts_arr = np.zeros(n, dtype=np.float32)\n",
    "\n",
    "for i in range(len(yhat_windows)):\n",
    "    sum_arr[i:i+L]    += yhat_windows[i]\n",
    "    counts_arr[i:i+L] += 1.0\n",
    "\n",
    "avg_arr = np.divide(sum_arr, counts_arr, out=np.zeros_like(sum_arr), where=counts_arr != 0)\n",
    "\n",
    "# 5) De-normalize with appliance stats and clip to nonnegative\n",
    "mu  = model.appliance_params[appliance]['mean']\n",
    "std = model.appliance_params[appliance]['std']\n",
    "pred_full = np.clip(mu + avg_arr * std, 0, None)   # length n = N + L - 1\n",
    "\n",
    "# 6) Trim borders (drop half-window on both ends) to recover N samples\n",
    "pred_trimmed = pred_full[half: n-half]              # length N == len(mains_test)\n",
    "\n",
    "# 7) Align ground truth and evaluate\n",
    "true_vals = appliance_test[appliance].values[:len(pred_trimmed)]\n",
    "mae = mean_absolute_error(true_vals, pred_trimmed)\n",
    "print(f\"Test MAE ({appliance}): {mae:.3f}\")\n"
   ]
  },
  {
   "cell_type": "code",
   "execution_count": null,
   "id": "ca3943a9",
   "metadata": {},
   "outputs": [
    {
     "data": {
      "image/png": "[encoded data removed]",
      "text/plain": [
       "<Figure size 1000x300 with 1 Axes>"
      ]
     },
     "metadata": {},
     "output_type": "display_data"
    }
   ],
   "source": [
    "seg = slice(0, min(30000, len(pred_trimmed)))\n",
    "plt.figure(figsize=(10,3))\n",
    "plt.plot(true_vals[seg], label='true')\n",
    "plt.plot(pred_trimmed[seg], label='pred')\n",
    "plt.legend(); plt.title(f'{appliance} - test segment')\n",
    "plt.tight_layout(); plt.show()"
   ]
  }
 ],
 "metadata": {
  "kernelspec": {
   "display_name": "image-nilm-clean",
   "language": "python",
   "name": "python3"
  },
  "language_info": {
   "codemirror_mode": {
    "name": "ipython",
    "version": 3
   },
   "file_extension": ".py",
   "mimetype": "text/x-python",
   "name": "python",
   "nbconvert_exporter": "python",
   "pygments_lexer": "ipython3",
   "version": "3.8.20"
  }
 },
 "nbformat": 4,
 "nbformat_minor": 5
}
