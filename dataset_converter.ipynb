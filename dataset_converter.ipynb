{
 "cells": [
  {
   "cell_type": "code",
   "execution_count": 1,
   "id": "eaeb8c7d-3885-4c03-afee-720052f0257b",
   "metadata": {},
   "outputs": [],
   "source": [
    "import pandas as pd\n",
    "import h5py\n",
    "import os"
   ]
  },
  {
   "cell_type": "code",
   "execution_count": 2,
   "id": "b3f0215d-4555-42b8-9cca-cb58a6738430",
   "metadata": {},
   "outputs": [],
   "source": [
    "csv_path = './refit_data/CLEAN_House2.csv'\n",
    "output_path = './data/REFIT_House2.h5'\n",
    "building_num = 2"
   ]
  },
  {
   "cell_type": "code",
   "execution_count": 3,
   "id": "81b7d911-64af-4d89-89f7-ae8bc78ae5b6",
   "metadata": {},
   "outputs": [],
   "source": [
    "df = pd.read_csv(csv_path, index_col=0, parse_dates=True)\n",
    "df = df.fillna(0)"
   ]
  },
  {
   "cell_type": "code",
   "execution_count": 4,
   "id": "6a44c3f0-d231-4aa4-996d-c0e84dfd01a7",
   "metadata": {},
   "outputs": [
    {
     "name": "stdout",
     "output_type": "stream",
     "text": [
      "Index(['Unix', 'Aggregate', 'Appliance1', 'Appliance2', 'Appliance3',\n",
      "       'Appliance4', 'Appliance5', 'Appliance6', 'Appliance7', 'Appliance8',\n",
      "       'Appliance9', 'Issues'],\n",
      "      dtype='object')\n"
     ]
    }
   ],
   "source": [
    "print(df.columns)\n"
   ]
  },
  {
   "cell_type": "code",
   "execution_count": 5,
   "id": "31c74169-7889-4871-a6e6-e5c0dc093875",
   "metadata": {},
   "outputs": [
    {
     "name": "stdout",
     "output_type": "stream",
     "text": [
      "Saved datasets:\n",
      "building2\n",
      "building2/dishwasher\n",
      "building2/dishwasher/power\n",
      "building2/dishwasher/power/active\n",
      "building2/fridge_freezer\n",
      "building2/fridge_freezer/power\n",
      "building2/fridge_freezer/power/active\n",
      "building2/hi_fi\n",
      "building2/hi_fi/power\n",
      "building2/hi_fi/power/active\n",
      "building2/kettle\n",
      "building2/kettle/power\n",
      "building2/kettle/power/active\n",
      "building2/mains\n",
      "building2/mains/power\n",
      "building2/mains/power/active\n",
      "building2/microwave\n",
      "building2/microwave/power\n",
      "building2/microwave/power/active\n",
      "building2/oven_extractor_fan\n",
      "building2/oven_extractor_fan/power\n",
      "building2/oven_extractor_fan/power/active\n",
      "building2/television\n",
      "building2/television/power\n",
      "building2/television/power/active\n",
      "building2/toaster\n",
      "building2/toaster/power\n",
      "building2/toaster/power/active\n",
      "building2/washing_machine\n",
      "building2/washing_machine/power\n",
      "building2/washing_machine/power/active\n"
     ]
    }
   ],
   "source": [
    "with h5py.File(output_path, 'w') as f:\n",
    "    b = f.create_group(f'building{building_num}')\n",
    "    \n",
    "    # Store mains (aggregate power)\n",
    "    mains = df[['Aggregate']].values.astype('float32')\n",
    "    b.create_dataset('mains/power/active', data=mains)\n",
    "\n",
    "    # Map all known appliances in House 2\n",
    "    appliance_map = {\n",
    "        'Appliance1': 'fridge_freezer',\n",
    "        'Appliance2': 'washing_machine',\n",
    "        'Appliance3': 'dishwasher',\n",
    "        'Appliance4': 'television',\n",
    "        'Appliance5': 'microwave',\n",
    "        'Appliance6': 'toaster',\n",
    "        'Appliance7': 'hi_fi',\n",
    "        'Appliance8': 'kettle',\n",
    "        'Appliance9': 'oven_extractor_fan',\n",
    "    }\n",
    "\n",
    "    for column, appliance_name in appliance_map.items():\n",
    "        if column in df.columns:\n",
    "            power = df[[column]].values.astype('float32')\n",
    "            b.create_dataset(f'{appliance_name}/power/active', data=power)\n",
    "\n",
    "    print(\"Saved datasets:\")\n",
    "    def print_hdf5_structure(name, obj):\n",
    "        print(name)\n",
    "    f.visititems(print_hdf5_structure)\n"
   ]
  },
  {
   "cell_type": "code",
   "execution_count": null,
   "id": "2e57b467-9153-4b88-8a1d-f3d69adfe3bf",
   "metadata": {},
   "outputs": [],
   "source": []
  },
  {
   "cell_type": "code",
   "execution_count": null,
   "id": "a781a222-ba23-4ecf-a84a-61e4a936693d",
   "metadata": {},
   "outputs": [],
   "source": []
  }
 ],
 "metadata": {
  "kernelspec": {
   "display_name": "Python 3 (ipykernel)",
   "language": "python",
   "name": "python3"
  },
  "language_info": {
   "codemirror_mode": {
    "name": "ipython",
    "version": 3
   },
   "file_extension": ".py",
   "mimetype": "text/x-python",
   "name": "python",
   "nbconvert_exporter": "python",
   "pygments_lexer": "ipython3",
   "version": "3.8.20"
  }
 },
 "nbformat": 4,
 "nbformat_minor": 5
}
